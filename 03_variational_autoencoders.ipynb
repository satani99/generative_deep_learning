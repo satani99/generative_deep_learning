{
  "nbformat": 4,
  "nbformat_minor": 0,
  "metadata": {
    "colab": {
      "provenance": [],
      "authorship_tag": "ABX9TyNcf6XUh0jeMFapS3Z4/SS1",
      "include_colab_link": true
    },
    "kernelspec": {
      "name": "python3",
      "display_name": "Python 3"
    },
    "language_info": {
      "name": "python"
    },
    "accelerator": "GPU",
    "gpuClass": "standard"
  },
  "cells": [
    {
      "cell_type": "markdown",
      "metadata": {
        "id": "view-in-github",
        "colab_type": "text"
      },
      "source": [
        "<a href=\"https://colab.research.google.com/github/satani99/generative_deep_learning/blob/main/03_variational_autoencoders.ipynb\" target=\"_parent\"><img src=\"https://colab.research.google.com/assets/colab-badge.svg\" alt=\"Open In Colab\"/></a>"
      ]
    },
    {
      "cell_type": "code",
      "source": [
        "from torchvision import datasets\n",
        "from torchvision import transforms\n",
        "import matplotlib.pyplot as plt\n",
        "import torch.nn as nn \n",
        "import torch"
      ],
      "metadata": {
        "id": "DFZ9rQvNrT7X"
      },
      "execution_count": 11,
      "outputs": []
    },
    {
      "cell_type": "code",
      "execution_count": 12,
      "metadata": {
        "id": "IEkLUrEljoSp"
      },
      "outputs": [],
      "source": [
        "# The Encoder\n",
        "class Encoder(nn.Module):\n",
        "  def __init__(self):\n",
        "    super(Encoder, self).__init__()\n",
        "\n",
        "    self.conv0 = nn.Conv2d(1, 32, kernel_size=3, stride=2)\n",
        "    self.leaky_relu1 = nn.LeakyReLU(32)\n",
        "    self.conv1 = nn.Conv2d(32, 64, kernel_size=3, stride=2)\n",
        "    self.leaky_relu2 = nn.LeakyReLU(64)\n",
        "    self.conv2 = nn.Conv2d(64, 64, kernel_size=3, stride=1)\n",
        "    self.leaky_relu3 = nn.LeakyReLU(64)\n",
        "    self.conv3 = nn.Conv2d(64, 64, kernel_size=3, stride=1)\n",
        "    self.leaky_relu4 = nn.LeakyReLU(64)\n",
        "    self.linear = nn.Linear(256, 2)\n",
        "\n",
        "  def forward(self, x):\n",
        "    x = self.conv0(x)\n",
        "    x = self.leaky_relu1(x)\n",
        "    x = self.conv1(x)\n",
        "    x = self.leaky_relu2(x)\n",
        "    x = self.conv2(x)\n",
        "    x = self.leaky_relu3(x)\n",
        "    x = self.conv3(x)\n",
        "    x = self.leaky_relu4(x)\n",
        "    x = torch.flatten(x, 1)\n",
        "    output = self.linear(x.view(-1, 256))\n",
        "    return output\n",
        "              "
      ]
    },
    {
      "cell_type": "code",
      "source": [
        "encoder = Encoder()\n",
        "print(encoder)"
      ],
      "metadata": {
        "colab": {
          "base_uri": "https://localhost:8080/"
        },
        "id": "qC4cEvzyyNMy",
        "outputId": "2b1ef22a-2d37-48dd-fcb8-abc2038cf0ba"
      },
      "execution_count": 13,
      "outputs": [
        {
          "output_type": "stream",
          "name": "stdout",
          "text": [
            "Encoder(\n",
            "  (conv0): Conv2d(1, 32, kernel_size=(3, 3), stride=(2, 2))\n",
            "  (leaky_relu1): LeakyReLU(negative_slope=32)\n",
            "  (conv1): Conv2d(32, 64, kernel_size=(3, 3), stride=(2, 2))\n",
            "  (leaky_relu2): LeakyReLU(negative_slope=64)\n",
            "  (conv2): Conv2d(64, 64, kernel_size=(3, 3), stride=(1, 1))\n",
            "  (leaky_relu3): LeakyReLU(negative_slope=64)\n",
            "  (conv3): Conv2d(64, 64, kernel_size=(3, 3), stride=(1, 1))\n",
            "  (leaky_relu4): LeakyReLU(negative_slope=64)\n",
            "  (linear): Linear(in_features=256, out_features=2, bias=True)\n",
            ")\n"
          ]
        }
      ]
    },
    {
      "cell_type": "code",
      "source": [
        "class Decoder(nn.Module):\n",
        "  def __init__(self):\n",
        "    super(Decoder, self).__init__()\n",
        "\n",
        "    self.linear = nn.Linear(2, 256)\n",
        "    self.conv_t_0 = nn.ConvTranspose2d(64, 64, kernel_size=3, stride=1)\n",
        "    self.leaky_relu5 = nn.LeakyReLU(64)\n",
        "    self.conv_t_1 = nn.ConvTranspose2d(64, 64, kernel_size=3, stride=1)\n",
        "    self.leaky_relu6 = nn.LeakyReLU(64)\n",
        "    self.conv_t_2 = nn.ConvTranspose2d(64, 32, kernel_size=3, stride=2)\n",
        "    self.leaky_relu7 = nn.LeakyReLU(32)\n",
        "    self.conv_t_3 = nn.ConvTranspose2d(32, 1, kernel_size=3, stride=2, output_padding=1)\n",
        "    self.leaky_relu8 = nn.LeakyReLU(1)\n",
        "\n",
        "  def forward(self, x):\n",
        "    x = self.linear(x)\n",
        "    x = self.leaky_relu5(self.conv_t_0(x.view(32, 64, 2, 2)))\n",
        "    x = self.leaky_relu6(self.conv_t_1(x))\n",
        "    x = self.leaky_relu7(self.conv_t_2(x))\n",
        "    x = self.leaky_relu8(self.conv_t_3(x))\n",
        "    output = torch.sigmoid(x)\n",
        "    return output\n",
        "    "
      ],
      "metadata": {
        "id": "ryeE7NQEyR79"
      },
      "execution_count": 14,
      "outputs": []
    },
    {
      "cell_type": "code",
      "source": [
        "decoder = Decoder()\n",
        "print(decoder)"
      ],
      "metadata": {
        "colab": {
          "base_uri": "https://localhost:8080/"
        },
        "id": "0x68sU8mzSTE",
        "outputId": "9123cf64-cb86-4f6f-f7ce-c731a688e7b0"
      },
      "execution_count": 15,
      "outputs": [
        {
          "output_type": "stream",
          "name": "stdout",
          "text": [
            "Decoder(\n",
            "  (linear): Linear(in_features=2, out_features=256, bias=True)\n",
            "  (conv_t_0): ConvTranspose2d(64, 64, kernel_size=(3, 3), stride=(1, 1))\n",
            "  (leaky_relu5): LeakyReLU(negative_slope=64)\n",
            "  (conv_t_1): ConvTranspose2d(64, 64, kernel_size=(3, 3), stride=(1, 1))\n",
            "  (leaky_relu6): LeakyReLU(negative_slope=64)\n",
            "  (conv_t_2): ConvTranspose2d(64, 32, kernel_size=(3, 3), stride=(2, 2))\n",
            "  (leaky_relu7): LeakyReLU(negative_slope=32)\n",
            "  (conv_t_3): ConvTranspose2d(32, 1, kernel_size=(3, 3), stride=(2, 2), output_padding=(1, 1))\n",
            "  (leaky_relu8): LeakyReLU(negative_slope=1)\n",
            ")\n"
          ]
        }
      ]
    },
    {
      "cell_type": "code",
      "source": [
        "tensor_transform = transforms.ToTensor()\n",
        "\n",
        "dataset = datasets.MNIST(root = \"./data\",\n",
        "                         train = True,\n",
        "                         download = True,\n",
        "                         transform = tensor_transform)\n",
        "\n",
        "loader = torch.utils.data.DataLoader(dataset = dataset,\n",
        "                                     batch_size = 32,\n",
        "                                     shuffle = True)"
      ],
      "metadata": {
        "id": "cmVojHcY20Gr"
      },
      "execution_count": 16,
      "outputs": []
    },
    {
      "cell_type": "code",
      "source": [
        "class AE(nn.Module):\n",
        "  def __init__(self):\n",
        "    super().__init__()\n",
        "    self.encoder = Encoder()\n",
        "    self.decoder = Decoder()\n",
        "\n",
        "  def forward(self, x):\n",
        "    encoded = self.encoder(x)\n",
        "    decoded = self.decoder(encoded)\n",
        "    return decoded"
      ],
      "metadata": {
        "id": "l6GvPUBD3w7u"
      },
      "execution_count": 17,
      "outputs": []
    },
    {
      "cell_type": "code",
      "source": [
        "model = AE()\n",
        "\n",
        "loss_function = nn.MSELoss()\n",
        "\n",
        "optimizer = torch.optim.Adam(model.parameters(),\n",
        "                             lr = 1e-1,\n",
        "                             weight_decay = 1e-8)"
      ],
      "metadata": {
        "id": "IPFBTPFgmE0A"
      },
      "execution_count": 18,
      "outputs": []
    },
    {
      "cell_type": "code",
      "source": [
        "epochs = 20\n",
        "losses = []\n",
        "\n",
        "for epoch in range(epochs):\n",
        "  for (image, _) in loader:\n",
        "\n",
        "    # image = image.reshape(1, -1, 28, 28)\n",
        "    reconstructed = model(image)\n",
        "    # print(image.shape)\n",
        "    # print(reconstructed.shape)\n",
        "    loss = loss_function(reconstructed, image)\n",
        "    optimizer.zero_grad()\n",
        "    loss.backward()\n",
        "    optimizer.step()\n",
        "\n",
        "    losses.append(loss)\n",
        "\n",
        "# plt.style.use('fivethirtyeight')\n",
        "# plt.xlabel('Iterations')\n",
        "# plt.ylabel('Loss')\n",
        "\n",
        "# plt.plot(losses[-100:])\n"
      ],
      "metadata": {
        "id": "TKbnO5PamdLj"
      },
      "execution_count": 19,
      "outputs": []
    },
    {
      "cell_type": "code",
      "source": [
        "print(model)"
      ],
      "metadata": {
        "id": "Q-OErYkMolFM",
        "colab": {
          "base_uri": "https://localhost:8080/"
        },
        "outputId": "bbc17bea-0972-403c-a63a-f43c19954055"
      },
      "execution_count": 20,
      "outputs": [
        {
          "output_type": "stream",
          "name": "stdout",
          "text": [
            "AE(\n",
            "  (encoder): Encoder(\n",
            "    (conv0): Conv2d(1, 32, kernel_size=(3, 3), stride=(2, 2))\n",
            "    (leaky_relu1): LeakyReLU(negative_slope=32)\n",
            "    (conv1): Conv2d(32, 64, kernel_size=(3, 3), stride=(2, 2))\n",
            "    (leaky_relu2): LeakyReLU(negative_slope=64)\n",
            "    (conv2): Conv2d(64, 64, kernel_size=(3, 3), stride=(1, 1))\n",
            "    (leaky_relu3): LeakyReLU(negative_slope=64)\n",
            "    (conv3): Conv2d(64, 64, kernel_size=(3, 3), stride=(1, 1))\n",
            "    (leaky_relu4): LeakyReLU(negative_slope=64)\n",
            "    (linear): Linear(in_features=256, out_features=2, bias=True)\n",
            "  )\n",
            "  (decoder): Decoder(\n",
            "    (linear): Linear(in_features=2, out_features=256, bias=True)\n",
            "    (conv_t_0): ConvTranspose2d(64, 64, kernel_size=(3, 3), stride=(1, 1))\n",
            "    (leaky_relu5): LeakyReLU(negative_slope=64)\n",
            "    (conv_t_1): ConvTranspose2d(64, 64, kernel_size=(3, 3), stride=(1, 1))\n",
            "    (leaky_relu6): LeakyReLU(negative_slope=64)\n",
            "    (conv_t_2): ConvTranspose2d(64, 32, kernel_size=(3, 3), stride=(2, 2))\n",
            "    (leaky_relu7): LeakyReLU(negative_slope=32)\n",
            "    (conv_t_3): ConvTranspose2d(32, 1, kernel_size=(3, 3), stride=(2, 2), output_padding=(1, 1))\n",
            "    (leaky_relu8): LeakyReLU(negative_slope=1)\n",
            "  )\n",
            ")\n"
          ]
        }
      ]
    },
    {
      "cell_type": "code",
      "source": [],
      "metadata": {
        "id": "LMqtgxRrPaYW"
      },
      "execution_count": null,
      "outputs": []
    }
  ]
}