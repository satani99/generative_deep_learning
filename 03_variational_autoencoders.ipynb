{
  "nbformat": 4,
  "nbformat_minor": 0,
  "metadata": {
    "colab": {
      "provenance": [],
      "authorship_tag": "ABX9TyNLy4V+mUS9pWxhxgianOjq",
      "include_colab_link": true
    },
    "kernelspec": {
      "name": "python3",
      "display_name": "Python 3"
    },
    "language_info": {
      "name": "python"
    }
  },
  "cells": [
    {
      "cell_type": "markdown",
      "metadata": {
        "id": "view-in-github",
        "colab_type": "text"
      },
      "source": [
        "<a href=\"https://colab.research.google.com/github/satani99/generative_deep_learning/blob/main/03_variational_autoencoders.ipynb\" target=\"_parent\"><img src=\"https://colab.research.google.com/assets/colab-badge.svg\" alt=\"Open In Colab\"/></a>"
      ]
    },
    {
      "cell_type": "code",
      "source": [
        "import torch.nn as nn \n",
        "import torch"
      ],
      "metadata": {
        "id": "DFZ9rQvNrT7X"
      },
      "execution_count": 2,
      "outputs": []
    },
    {
      "cell_type": "code",
      "execution_count": 5,
      "metadata": {
        "id": "IEkLUrEljoSp"
      },
      "outputs": [],
      "source": [
        "# The Encoder\n",
        "class Encoder(nn.Module):\n",
        "  def __init__(self):\n",
        "    super(Encoder, self).__init__()\n",
        "\n",
        "    self.conv0 = nn.Conv2d(3, 32, kernel_size=3, stride=2)\n",
        "    self.leaky_relu1 = nn.LeakyReLU(32)\n",
        "    self.conv1 = nn.Conv2d(32, 64, kernel_size=3, stride=2)\n",
        "    self.leaky_relu2 = nn.LeakyReLU(64)\n",
        "    self.conv2 = nn.Conv2d(64, 64, kernel_size=3, stride=1)\n",
        "    self.leaky_relu3 = nn.LeakyReLU(64)\n",
        "    self.conv3 = nn.Conv2d(64, 64, kernel_size=3, stride=1)\n",
        "    self.leaky_relu4 = nn.LeakyReLU(64)\n",
        "    self.linear = nn.Linear(1024, 2)\n",
        "\n",
        "  def forward(self, x):\n",
        "    x = self.conv0(x)\n",
        "    x = self.leaky_relu1(x)\n",
        "    x = self.conv1(x)\n",
        "    x = self.leaky_relu2(x)\n",
        "    x = self.conv2(x)\n",
        "    x = self.leaky_relu3(x)\n",
        "    x = self.conv3(x)\n",
        "    x = self.leaky_relu4(x)\n",
        "    x = self.flatten(x, 1)\n",
        "    output = self.linear(x)\n",
        "    return output\n",
        "              "
      ]
    },
    {
      "cell_type": "code",
      "source": [
        "encoder = Encoder()\n",
        "print(encoder)"
      ],
      "metadata": {
        "colab": {
          "base_uri": "https://localhost:8080/"
        },
        "id": "qC4cEvzyyNMy",
        "outputId": "a47ad2b4-3a19-4089-cedd-9e5b21a33a6d"
      },
      "execution_count": 6,
      "outputs": [
        {
          "output_type": "stream",
          "name": "stdout",
          "text": [
            "Encoder(\n",
            "  (conv0): Conv2d(3, 32, kernel_size=(3, 3), stride=(2, 2))\n",
            "  (leaky_relu1): LeakyReLU(negative_slope=32)\n",
            "  (conv1): Conv2d(32, 64, kernel_size=(3, 3), stride=(2, 2))\n",
            "  (leaky_relu2): LeakyReLU(negative_slope=64)\n",
            "  (conv2): Conv2d(64, 64, kernel_size=(3, 3), stride=(1, 1))\n",
            "  (leaky_relu3): LeakyReLU(negative_slope=64)\n",
            "  (conv3): Conv2d(64, 64, kernel_size=(3, 3), stride=(1, 1))\n",
            "  (leaky_relu4): LeakyReLU(negative_slope=64)\n",
            "  (linear): Linear(in_features=1024, out_features=2, bias=True)\n",
            ")\n"
          ]
        }
      ]
    },
    {
      "cell_type": "code",
      "source": [
        "class Decoder(nn.Module):\n",
        "  def __init__(self):\n",
        "    super(Decoder, self).__init__()\n",
        "\n",
        "    self.linear = nn.Linear(2, 3136)\n",
        "    self.conv_t_0 = nn.ConvTranspose2d(64, 64, kernel_size=3, stride=1)\n",
        "    self.leaky_relu5 = nn.LeakyReLU(64)\n",
        "    self.conv_t_1 = nn.ConvTranspose2d(64, 64, kernel_size=3, stride=1)\n",
        "    self.leaky_relu6 = nn.LeakyReLU(64)\n",
        "    self.conv_t_2 = nn.ConvTranspose2d(64, 32, kernel_size=3, stride=2)\n",
        "    self.leaky_relu7 = nn.LeakyReLU(32)\n",
        "    self.conv_t_3 = nn.ConvTranspose2d(32, 3, kernel_size=3, stride=2)\n",
        "\n",
        "  def forward(self, x):\n",
        "    x = self.linear(x)\n",
        "    x = self.leaky_relu5(self.conv_t_0(x.view(-1, 7, 7, 64)))\n",
        "    x = self.leaky_relu6(self.conv_t_1(x))\n",
        "    x = self.leaky_relu7(self.conv_t_2(x))\n",
        "    output = torch.sigmoid(x)\n",
        "    return output\n",
        "    "
      ],
      "metadata": {
        "id": "ryeE7NQEyR79"
      },
      "execution_count": 11,
      "outputs": []
    },
    {
      "cell_type": "code",
      "source": [
        "decoder = Decoder()\n",
        "print(decoder)"
      ],
      "metadata": {
        "colab": {
          "base_uri": "https://localhost:8080/"
        },
        "id": "0x68sU8mzSTE",
        "outputId": "4d9677df-7abe-4bee-ed5f-1672899902a3"
      },
      "execution_count": 12,
      "outputs": [
        {
          "output_type": "stream",
          "name": "stdout",
          "text": [
            "Decoder(\n",
            "  (linear): Linear(in_features=2, out_features=3136, bias=True)\n",
            "  (conv_t_0): ConvTranspose2d(64, 64, kernel_size=(3, 3), stride=(1, 1))\n",
            "  (leaky_relu5): LeakyReLU(negative_slope=64)\n",
            "  (conv_t_1): ConvTranspose2d(64, 64, kernel_size=(3, 3), stride=(1, 1))\n",
            "  (leaky_relu6): LeakyReLU(negative_slope=64)\n",
            "  (conv_t_2): ConvTranspose2d(64, 32, kernel_size=(3, 3), stride=(2, 2))\n",
            "  (leaky_relu7): LeakyReLU(negative_slope=32)\n",
            "  (conv_t_3): ConvTranspose2d(32, 3, kernel_size=(3, 3), stride=(2, 2))\n",
            ")\n"
          ]
        }
      ]
    },
    {
      "cell_type": "code",
      "source": [],
      "metadata": {
        "id": "cmVojHcY20Gr"
      },
      "execution_count": 14,
      "outputs": []
    },
    {
      "cell_type": "code",
      "source": [],
      "metadata": {
        "id": "l6GvPUBD3w7u"
      },
      "execution_count": null,
      "outputs": []
    }
  ]
}