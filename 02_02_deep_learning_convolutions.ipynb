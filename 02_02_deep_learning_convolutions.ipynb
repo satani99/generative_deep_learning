{
  "nbformat": 4,
  "nbformat_minor": 0,
  "metadata": {
    "colab": {
      "provenance": [],
      "authorship_tag": "ABX9TyPD9vFxluj13t8nCUWwVB1M",
      "include_colab_link": true
    },
    "kernelspec": {
      "name": "python3",
      "display_name": "Python 3"
    },
    "language_info": {
      "name": "python"
    },
    "accelerator": "GPU",
    "gpuClass": "standard"
  },
  "cells": [
    {
      "cell_type": "markdown",
      "metadata": {
        "id": "view-in-github",
        "colab_type": "text"
      },
      "source": [
        "<a href=\"https://colab.research.google.com/github/satani99/generative_deep_learning/blob/main/02_02_deep_learning_convolutions.ipynb\" target=\"_parent\"><img src=\"https://colab.research.google.com/assets/colab-badge.svg\" alt=\"Open In Colab\"/></a>"
      ]
    },
    {
      "cell_type": "code",
      "execution_count": 1,
      "metadata": {
        "id": "4LgjEgiBPpJr"
      },
      "outputs": [],
      "source": [
        "import torch.nn as nn\n",
        "import torch \n",
        "\n",
        "convlayer1 = nn.Conv2d(1, 2, kernel_size=3)"
      ]
    },
    {
      "cell_type": "code",
      "source": [
        "class Conv(nn.Module):\n",
        "  def __init__(self):\n",
        "    super(Conv, self).__init__()\n",
        "\n",
        "    self.conv_layer_1 = nn.Conv2d(3, 10, kernel_size=4, stride=2)\n",
        "    self.conv_layer_2 = nn.Conv2d(10, 20, kernel_size=3, stride=2)  \n",
        "    self.linear = nn.Linear(20*8*8, 10)\n",
        "\n",
        "  def forward(self, x):\n",
        "    x = self.conv_layer_1(x)\n",
        "    x = self.conv_layer_2(x)\n",
        "    x = torch.flatten(x, 1)\n",
        "    output = F.softmax(self.linear(x))\n",
        "    return output"
      ],
      "metadata": {
        "id": "RUGUwss6PzE-"
      },
      "execution_count": 4,
      "outputs": []
    },
    {
      "cell_type": "code",
      "source": [
        "net = Conv()\n",
        "print(net)"
      ],
      "metadata": {
        "colab": {
          "base_uri": "https://localhost:8080/"
        },
        "id": "zspeRiSgYR8Z",
        "outputId": "2dab8629-a832-4930-bb1f-8a6418294494"
      },
      "execution_count": 5,
      "outputs": [
        {
          "output_type": "stream",
          "name": "stdout",
          "text": [
            "Conv(\n",
            "  (conv_layer_1): Conv2d(3, 10, kernel_size=(4, 4), stride=(2, 2))\n",
            "  (conv_layer_2): Conv2d(10, 20, kernel_size=(3, 3), stride=(2, 2))\n",
            "  (linear): Linear(in_features=1280, out_features=10, bias=True)\n",
            ")\n"
          ]
        }
      ]
    },
    {
      "cell_type": "code",
      "source": [],
      "metadata": {
        "id": "rM1Pnq9jYVV-"
      },
      "execution_count": null,
      "outputs": []
    }
  ]
}