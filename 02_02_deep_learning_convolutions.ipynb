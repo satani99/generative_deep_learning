{
  "nbformat": 4,
  "nbformat_minor": 0,
  "metadata": {
    "colab": {
      "provenance": [],
      "authorship_tag": "ABX9TyMGfOmNW0T5iz420EZGAAVE",
      "include_colab_link": true
    },
    "kernelspec": {
      "name": "python3",
      "display_name": "Python 3"
    },
    "language_info": {
      "name": "python"
    },
    "accelerator": "GPU",
    "gpuClass": "standard"
  },
  "cells": [
    {
      "cell_type": "markdown",
      "metadata": {
        "id": "view-in-github",
        "colab_type": "text"
      },
      "source": [
        "<a href=\"https://colab.research.google.com/github/satani99/generative_deep_learning/blob/main/02_02_deep_learning_convolutions.ipynb\" target=\"_parent\"><img src=\"https://colab.research.google.com/assets/colab-badge.svg\" alt=\"Open In Colab\"/></a>"
      ]
    },
    {
      "cell_type": "code",
      "execution_count": 11,
      "metadata": {
        "id": "4LgjEgiBPpJr"
      },
      "outputs": [],
      "source": [
        "import torch.nn as nn\n",
        "import torch \n",
        "import torch.nn.functional as F\n",
        "\n",
        "convlayer1 = nn.Conv2d(1, 2, kernel_size=3)"
      ]
    },
    {
      "cell_type": "code",
      "source": [
        "class Conv(nn.Module):\n",
        "  def __init__(self):\n",
        "    super(Conv, self).__init__()\n",
        "\n",
        "    self.conv_layer_1 = nn.Conv2d(3, 10, kernel_size=4, stride=2)\n",
        "    self.conv_layer_2 = nn.Conv2d(10, 20, kernel_size=3, stride=2)  \n",
        "    self.linear = nn.Linear(980, 10)\n",
        "\n",
        "  def forward(self, x):\n",
        "    x = self.conv_layer_1(x)\n",
        "    x = self.conv_layer_2(x)\n",
        "    x = torch.flatten(x, 1)\n",
        "    output = F.softmax(self.linear(x))\n",
        "    return output"
      ],
      "metadata": {
        "id": "RUGUwss6PzE-"
      },
      "execution_count": 15,
      "outputs": []
    },
    {
      "cell_type": "code",
      "source": [
        "net = Conv()\n",
        "print(net)"
      ],
      "metadata": {
        "colab": {
          "base_uri": "https://localhost:8080/"
        },
        "id": "zspeRiSgYR8Z",
        "outputId": "67c69354-b200-4257-fa3a-92194287024f"
      },
      "execution_count": 16,
      "outputs": [
        {
          "output_type": "stream",
          "name": "stdout",
          "text": [
            "Conv(\n",
            "  (conv_layer_1): Conv2d(3, 10, kernel_size=(4, 4), stride=(2, 2))\n",
            "  (conv_layer_2): Conv2d(10, 20, kernel_size=(3, 3), stride=(2, 2))\n",
            "  (linear): Linear(in_features=980, out_features=10, bias=True)\n",
            ")\n"
          ]
        }
      ]
    },
    {
      "cell_type": "code",
      "source": [
        "class ConvNet(nn.Module):\n",
        "  def __init__(self):\n",
        "    super(ConvNet, self).__init__()\n",
        "\n",
        "    self.conv1 = nn.Conv2d(3, 32, kernel_size=3, stride=1)\n",
        "    self.conv1_bn = nn.BatchNorm2d(32)\n",
        "    self.conv2 = nn.Conv2d(32, 32, kernel_size=3, stride=2)\n",
        "    self.conv2_bn = nn.BatchNorm2d(32)\n",
        "    self.conv3 = nn.Conv2d(32, 64, kernel_size=3, stride=1)\n",
        "    self.conv3_bn = nn.BatchNorm2d(64)\n",
        "    self.conv4 = nn.Conv2d(64, 64, kernel_size=3, stride=2)\n",
        "    self.conv4_bn = nn.BatchNorm2d(64)\n",
        "    self.linear1 = nn.Linear(1600, 128)\n",
        "    self.linear1_bn = nn.BatchNorm1d(num_features=128)\n",
        "    self.dropout = nn.Dropout(p=0.5)\n",
        "    self.linear2 = nn.Linear(128, 10)\n",
        "\n",
        "  def forward(self, x):\n",
        "    x = self.conv1(x)\n",
        "    x = F.leaky_relu(self.conv1_bn(x))\n",
        "    x = F.leaky_relu(self.conv2_bn(self.conv2(x)))\n",
        "    x = F.leaky_relu(self.conv3_bn(self.conv3(x)))\n",
        "    x = F.leaky_relu(self.conv4_bn(self.conv4(x)))\n",
        "    x = torch.flatten(x, 1)\n",
        "    x = F.leaky_relu(self.linear1_bn(self.linear1(x)))\n",
        "    x = self.dropout(x)\n",
        "    output = F.softmax(self.linear2(x))\n",
        "    return output\n",
        "\n"
      ],
      "metadata": {
        "id": "rM1Pnq9jYVV-"
      },
      "execution_count": 42,
      "outputs": []
    },
    {
      "cell_type": "code",
      "source": [
        "model = ConvNet()\n",
        "print(model)"
      ],
      "metadata": {
        "colab": {
          "base_uri": "https://localhost:8080/"
        },
        "id": "YZCFeTzHM72v",
        "outputId": "ba83b86b-4aca-4ae0-d80a-2bd3bf24b975"
      },
      "execution_count": 43,
      "outputs": [
        {
          "output_type": "stream",
          "name": "stdout",
          "text": [
            "ConvNet(\n",
            "  (conv1): Conv2d(3, 32, kernel_size=(3, 3), stride=(1, 1))\n",
            "  (conv1_bn): BatchNorm2d(32, eps=1e-05, momentum=0.1, affine=True, track_running_stats=True)\n",
            "  (conv2): Conv2d(32, 32, kernel_size=(3, 3), stride=(2, 2))\n",
            "  (conv2_bn): BatchNorm2d(32, eps=1e-05, momentum=0.1, affine=True, track_running_stats=True)\n",
            "  (conv3): Conv2d(32, 64, kernel_size=(3, 3), stride=(1, 1))\n",
            "  (conv3_bn): BatchNorm2d(64, eps=1e-05, momentum=0.1, affine=True, track_running_stats=True)\n",
            "  (conv4): Conv2d(64, 64, kernel_size=(3, 3), stride=(2, 2))\n",
            "  (conv4_bn): BatchNorm2d(64, eps=1e-05, momentum=0.1, affine=True, track_running_stats=True)\n",
            "  (linear1): Linear(in_features=1600, out_features=128, bias=True)\n",
            "  (linear1_bn): BatchNorm1d(128, eps=1e-05, momentum=0.1, affine=True, track_running_stats=True)\n",
            "  (dropout): Dropout(p=0.5, inplace=False)\n",
            "  (linear2): Linear(in_features=128, out_features=10, bias=True)\n",
            ")\n"
          ]
        }
      ]
    },
    {
      "cell_type": "code",
      "source": [
        "import numpy as np\n",
        "from torch.nn.functional import one_hot\n",
        "import torchvision\n",
        "import torch\n",
        "import torchvision.transforms as transforms\n",
        "\n",
        "transform = transforms.Compose(\n",
        "    [transforms.ToTensor(),\n",
        "     transforms.Normalize((0.5, 0.5, 0.5), (0.5, 0.5, 0.5))]\n",
        ")\n",
        "\n",
        "\n",
        "trainset = torchvision.datasets.CIFAR10(root='./content', train=True, download=True, transform=transform)\n",
        "trainloader = torch.utils.data.DataLoader(trainset, batch_size=1000, shuffle=True, num_workers=2)\n",
        "\n",
        "testset = torchvision.datasets.CIFAR10(root='./content', train=False, download=True, transform=transform)\n",
        "testloader = torch.utils.data.DataLoader(testset, batch_size=1000, shuffle=True, num_workers=2)\n",
        "\n",
        "classes = ('plane', 'car', 'bird', 'cat', 'deer', 'dog', 'frog', 'horse', 'ship', 'truck')"
      ],
      "metadata": {
        "colab": {
          "base_uri": "https://localhost:8080/"
        },
        "id": "2sRdazreNP2Q",
        "outputId": "8c0adc66-0701-4971-b101-515251167b7d"
      },
      "execution_count": 55,
      "outputs": [
        {
          "output_type": "stream",
          "name": "stdout",
          "text": [
            "Files already downloaded and verified\n",
            "Files already downloaded and verified\n"
          ]
        }
      ]
    },
    {
      "cell_type": "code",
      "source": [
        "for j, data in enumerate(trainloader, 0):\n",
        "  inputs, labels = data\n",
        "  print(inputs.shape)\n",
        "  break"
      ],
      "metadata": {
        "colab": {
          "base_uri": "https://localhost:8080/"
        },
        "id": "DfMFnYWhR4Wa",
        "outputId": "26189035-b465-4e29-a503-21d56b611df0"
      },
      "execution_count": 30,
      "outputs": [
        {
          "output_type": "stream",
          "name": "stdout",
          "text": [
            "torch.Size([4, 3, 32, 32])\n"
          ]
        }
      ]
    },
    {
      "cell_type": "code",
      "source": [
        "loss_function = nn.CrossEntropyLoss()\n",
        "\n",
        "optimizer = torch.optim.Adam(model.parameters(), lr=5e-4)\n",
        "\n",
        "epochs = 10\n",
        "\n",
        "final_losses = []\n",
        "\n",
        "for i in range(epochs):\n",
        "  epoch_loss = 0.0\n",
        "  running_loss = 0.0\n",
        "  \n",
        "  for j, data in enumerate(trainloader, 0):\n",
        "    inputs, labels = data \n",
        "\n",
        "    optimizer.zero_grad()\n",
        "\n",
        "    outputs = model(inputs)\n",
        "    loss = loss_function(outputs, labels)\n",
        "    # final_losses.append(loss)\n",
        "\n",
        "    loss.backward()\n",
        "    optimizer.step()\n",
        "    \n",
        "    epoch_loss += outputs.shape[0] * loss.item()\n",
        "\n",
        "    running_loss += loss.item()\n",
        "\n",
        "    if j % 1000 == 999:\n",
        "      print('[%d, %5d] loss: %.3f' % (i + 1, j+1, running_loss/1000))\n",
        "      running_loss = 0.0\n",
        "\n",
        "  print(i+1, epoch_loss / len(trainset))\n",
        "\n",
        "print('Finished Training')"
      ],
      "metadata": {
        "colab": {
          "base_uri": "https://localhost:8080/"
        },
        "id": "ZuYAdjeBOtZY",
        "outputId": "3991c56e-0824-4844-8627-d5c41caa3761"
      },
      "execution_count": 56,
      "outputs": [
        {
          "output_type": "stream",
          "name": "stderr",
          "text": [
            "/usr/local/lib/python3.7/dist-packages/ipykernel_launcher.py:27: UserWarning: Implicit dimension choice for softmax has been deprecated. Change the call to include dim=X as an argument.\n"
          ]
        },
        {
          "output_type": "stream",
          "name": "stdout",
          "text": [
            "1 1.7685827016830444\n",
            "2 1.75448965549469\n",
            "3 1.746130917072296\n",
            "4 1.7393189430236817\n",
            "5 1.734667377471924\n",
            "6 1.7302946543693543\n",
            "7 1.7257343411445618\n",
            "8 1.722069764137268\n",
            "9 1.718154664039612\n",
            "10 1.71601886510849\n",
            "Finished Training\n"
          ]
        }
      ]
    },
    {
      "cell_type": "code",
      "source": [
        "PATH = './cifar_net.pth'\n",
        "torch.save(model.state_dict(), PATH)"
      ],
      "metadata": {
        "id": "zirRUYmwWNIa"
      },
      "execution_count": 57,
      "outputs": []
    },
    {
      "cell_type": "code",
      "source": [
        "net = ConvNet()\n",
        "net.load_state_dict(torch.load(PATH))"
      ],
      "metadata": {
        "colab": {
          "base_uri": "https://localhost:8080/"
        },
        "id": "HU5PM0JzWN-M",
        "outputId": "cacba5cf-01c8-41b2-f84c-d64763aefb06"
      },
      "execution_count": 58,
      "outputs": [
        {
          "output_type": "execute_result",
          "data": {
            "text/plain": [
              "<All keys matched successfully>"
            ]
          },
          "metadata": {},
          "execution_count": 58
        }
      ]
    },
    {
      "cell_type": "code",
      "source": [
        "dataiter = iter(testloader)\n",
        "images, labels = next(dataiter)"
      ],
      "metadata": {
        "id": "jIktisa_WcIp"
      },
      "execution_count": 59,
      "outputs": []
    },
    {
      "cell_type": "code",
      "source": [
        "outputs = net(images)"
      ],
      "metadata": {
        "colab": {
          "base_uri": "https://localhost:8080/"
        },
        "id": "8qrMm4dXWfN8",
        "outputId": "64d2e272-7109-4287-d440-ddba44bf87fd"
      },
      "execution_count": 60,
      "outputs": [
        {
          "output_type": "stream",
          "name": "stderr",
          "text": [
            "/usr/local/lib/python3.7/dist-packages/ipykernel_launcher.py:27: UserWarning: Implicit dimension choice for softmax has been deprecated. Change the call to include dim=X as an argument.\n"
          ]
        }
      ]
    },
    {
      "cell_type": "code",
      "source": [
        "_, predicted = torch.max(outputs, 1)\n",
        "\n",
        "print('Predicted: ', ' '.join(f'{classes[predicted[j]]:5s}' for j in range(4)))"
      ],
      "metadata": {
        "colab": {
          "base_uri": "https://localhost:8080/"
        },
        "id": "Qt02Pc9DWi-G",
        "outputId": "542d6e0a-3fff-45e7-d6eb-490f650bced1"
      },
      "execution_count": 61,
      "outputs": [
        {
          "output_type": "stream",
          "name": "stdout",
          "text": [
            "Predicted:  deer  ship  frog  horse\n"
          ]
        }
      ]
    },
    {
      "cell_type": "code",
      "source": [
        "print('GroundTruth: ', ' '.join(f'{classes[labels[j]]:5s}' for j in range(4)))"
      ],
      "metadata": {
        "colab": {
          "base_uri": "https://localhost:8080/"
        },
        "id": "OrfcwsTKWjnt",
        "outputId": "a1ab9060-3120-45c7-ab12-ad73ee28b70b"
      },
      "execution_count": 62,
      "outputs": [
        {
          "output_type": "stream",
          "name": "stdout",
          "text": [
            "GroundTruth:  deer  deer  car   horse\n"
          ]
        }
      ]
    },
    {
      "cell_type": "code",
      "source": [
        "correct = 0\n",
        "total = 0\n",
        "\n",
        "with torch.no_grad():\n",
        "  for data in testloader: \n",
        "    images, labels = data \n",
        "    outputs = net(images) \n",
        "\n",
        "    _, predicted = torch.max(outputs.data, 1) \n",
        "    total += labels.size(0)\n",
        "    correct += (predicted == labels).sum().item()\n",
        "\n",
        "print(f\"Accuracy of the network on the 10000 test images: {100 * correct // total} %\")"
      ],
      "metadata": {
        "colab": {
          "base_uri": "https://localhost:8080/"
        },
        "id": "JTXrXM0fO2c5",
        "outputId": "77c11d9e-f950-4ddb-b0ce-6bec25625cb0"
      },
      "execution_count": 63,
      "outputs": [
        {
          "output_type": "stream",
          "name": "stderr",
          "text": [
            "/usr/local/lib/python3.7/dist-packages/ipykernel_launcher.py:27: UserWarning: Implicit dimension choice for softmax has been deprecated. Change the call to include dim=X as an argument.\n"
          ]
        },
        {
          "output_type": "stream",
          "name": "stdout",
          "text": [
            "Accuracy of the network on the 10000 test images: 70 %\n"
          ]
        }
      ]
    },
    {
      "cell_type": "code",
      "source": [],
      "metadata": {
        "id": "FR-pJKXLW_51"
      },
      "execution_count": null,
      "outputs": []
    }
  ]
}