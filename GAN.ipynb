{
  "nbformat": 4,
  "nbformat_minor": 0,
  "metadata": {
    "colab": {
      "provenance": [],
      "authorship_tag": "ABX9TyMdV5fKDq7uwxA1lE5W20JI",
      "include_colab_link": true
    },
    "kernelspec": {
      "name": "python3",
      "display_name": "Python 3"
    },
    "language_info": {
      "name": "python"
    },
    "accelerator": "GPU",
    "gpuClass": "standard"
  },
  "cells": [
    {
      "cell_type": "markdown",
      "metadata": {
        "id": "view-in-github",
        "colab_type": "text"
      },
      "source": [
        "<a href=\"https://colab.research.google.com/github/satani99/generative_deep_learning/blob/main/GAN.ipynb\" target=\"_parent\"><img src=\"https://colab.research.google.com/assets/colab-badge.svg\" alt=\"Open In Colab\"/></a>"
      ]
    },
    {
      "cell_type": "code",
      "execution_count": 12,
      "metadata": {
        "id": "oVqTXMhCNDnq"
      },
      "outputs": [],
      "source": [
        "from google.colab import auth\n",
        "\n",
        "auth.authenticate_user()"
      ]
    },
    {
      "cell_type": "code",
      "source": [
        "# !curl https://sdk.cloud.google.com | bash"
      ],
      "metadata": {
        "id": "15bjZih7n5XI"
      },
      "execution_count": 13,
      "outputs": []
    },
    {
      "cell_type": "code",
      "source": [
        "# !gcloud init --skip-diagnostics"
      ],
      "metadata": {
        "id": "ic5EGJiYoF4d"
      },
      "execution_count": 14,
      "outputs": []
    },
    {
      "cell_type": "code",
      "source": [
        "!gsutil cp gs://quickdraw_dataset/full/numpy_bitmap/camel.npy .\n"
      ],
      "metadata": {
        "colab": {
          "base_uri": "https://localhost:8080/"
        },
        "id": "-XTzpFtMoTnC",
        "outputId": "7974ee22-8bdd-4b76-c1ca-4e19b9ff69da"
      },
      "execution_count": 15,
      "outputs": [
        {
          "output_type": "stream",
          "name": "stdout",
          "text": [
            "Copying gs://quickdraw_dataset/full/numpy_bitmap/camel.npy...\n",
            "- [1 files][ 90.8 MiB/ 90.8 MiB]                                                \n",
            "Operation completed over 1 objects/90.8 MiB.                                     \n"
          ]
        }
      ]
    },
    {
      "cell_type": "code",
      "source": [
        "import torch.nn as nn \n",
        "import torch "
      ],
      "metadata": {
        "id": "IonxMMDpq3ZE"
      },
      "execution_count": 16,
      "outputs": []
    },
    {
      "cell_type": "code",
      "source": [
        "# THE DISCRIMINATOR\n",
        "class Discriminator(nn.Module):\n",
        "  def __init__(self):\n",
        "    super(Discriminator, self).__init__()\n",
        "\n",
        "    self.conv0 = nn.Conv2d(1, 64, kernel_size=3, stride=2, padding=1)\n",
        "    self.relu = nn.ReLU()\n",
        "    self.dropout = nn.Dropout()\n",
        "    self.conv1 = nn.Conv2d(64, 64, kernel_size=3, stride=2, padding=1)\n",
        "    self.conv2 = nn.Conv2d(64, 128, kernel_size=3, stride=2, padding=1)\n",
        "    self.conv3 = nn.Conv2d(128, 128, kernel_size=3, stride=1, padding=1)\n",
        "    self.linear = nn.Linear(2048, 1)\n",
        "\n",
        "  def forward(self, x):\n",
        "    x = self.dropout(self.relu(self.conv0(x)))\n",
        "    x = self.dropout(self.relu(self.conv1(x)))\n",
        "    x = self.dropout(self.relu(self.conv2(x)))\n",
        "    x = self.dropout(self.relu(self.conv3(x)))\n",
        "    out = nn.Sigmoid(self.linear(x.view(-1, 2048)))\n",
        "    return out\n",
        "\n",
        "\n",
        "\n"
      ],
      "metadata": {
        "id": "DBxjqXEloyU6"
      },
      "execution_count": 17,
      "outputs": []
    },
    {
      "cell_type": "code",
      "source": [
        "# THE GENERATOR \n",
        "class Generator(nn.Module):\n",
        "  def __init__(self):\n",
        "    super(Generator, self).__init__()\n",
        "\n",
        "    self.linear = nn.Linear(100, 3136)\n",
        "    self.batchnorm0 = nn.BatchNorm1d(3136)\n",
        "    self.relu = nn.ReLU()\n",
        "    self.upsample = nn.Upsample(scale_factor=2, mode='bilinear', align_corners=True)\n",
        "    self.conv0 = nn.Conv2d(64, 128, kernel_size=3, stride=1, padding=1)\n",
        "    self.batchnorm1 = nn.BatchNorm2d(128)\n",
        "    self.conv1 = nn.Conv2d(128, 64, kernel_size=3, stride=1, padding=1)\n",
        "    self.batchnorm2 = nn.BatchNorm2d(64)\n",
        "    self.conv2 = nn.Conv2d(64, 64, kernel_size=3, stride=1, padding=1) \n",
        "    self.batchnorm3 = nn.BatchNorm2d(64)\n",
        "    self.conv3 = nn.Conv2d(64, 1, kernel_size=3, stride=1, padding=1) \n",
        "    self.tanh = nn.Tanh() \n",
        "\n",
        "  def forward(self, x):\n",
        "    x = self.linear(x)\n",
        "    x = self.relu(self.batchnorm0(x))\n",
        "    x = self.upsample(x.view(-1, 64, 7, 7))\n",
        "    x = self.relu(self.batchnorm1(self.conv0(x)))\n",
        "    x = self.upsample(x)\n",
        "    x = self.relu(self.batchnorm2(self.conv1(x)))\n",
        "    x = self.relu(self.batchnorm3(self.conv2(x)))\n",
        "    out = self.tanh(self.conv3(x)) \n",
        "    return out \n",
        "\n",
        "\n",
        "\n",
        "\n"
      ],
      "metadata": {
        "id": "B3FzururpL_C"
      },
      "execution_count": 18,
      "outputs": []
    },
    {
      "cell_type": "code",
      "source": [
        "netG = Generator() \n",
        "netD = Discriminator() "
      ],
      "metadata": {
        "id": "TmrH3Scb2QKa"
      },
      "execution_count": 19,
      "outputs": []
    },
    {
      "cell_type": "code",
      "source": [
        "import torch.optim as optim \n",
        "\n",
        "criterion = nn.BCELoss() \n",
        "\n",
        "fixed_noise = torch.randn(64, 100, 1, 1)\n",
        "\n",
        "real_label = 1.\n",
        "fake_label = 0. \n",
        "\n",
        "optimizerD = optim.Adam(netD.parameters(), lr=0.0008)\n",
        "optimizerG = optim.Adam(netG.parameters(), lr=0.0008)"
      ],
      "metadata": {
        "id": "xYLgQrBVEdaN"
      },
      "execution_count": 21,
      "outputs": []
    },
    {
      "cell_type": "code",
      "source": [],
      "metadata": {
        "id": "9uxM-JL2KC_c"
      },
      "execution_count": null,
      "outputs": []
    }
  ]
}