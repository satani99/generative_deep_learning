{
  "nbformat": 4,
  "nbformat_minor": 0,
  "metadata": {
    "colab": {
      "provenance": [],
      "authorship_tag": "ABX9TyNqWmEGQHBSLaRqXNzbffQy",
      "include_colab_link": true
    },
    "kernelspec": {
      "name": "python3",
      "display_name": "Python 3"
    },
    "language_info": {
      "name": "python"
    },
    "accelerator": "GPU",
    "gpuClass": "standard"
  },
  "cells": [
    {
      "cell_type": "markdown",
      "metadata": {
        "id": "view-in-github",
        "colab_type": "text"
      },
      "source": [
        "<a href=\"https://colab.research.google.com/github/satani99/generative_deep_learning/blob/main/VAE_CelebA.ipynb\" target=\"_parent\"><img src=\"https://colab.research.google.com/assets/colab-badge.svg\" alt=\"Open In Colab\"/></a>"
      ]
    },
    {
      "cell_type": "code",
      "source": [
        "import torch.nn as nn\n",
        "import torch\n",
        "import torchvision"
      ],
      "metadata": {
        "id": "GP7yQPQJy_F7"
      },
      "execution_count": 1,
      "outputs": []
    },
    {
      "cell_type": "code",
      "source": [
        "dataset = torchvision.datasets.CelebA(root='./content', split='train', transform=torchvision.transforms.PILToTensor(), download=True, target_type='attr')"
      ],
      "metadata": {
        "colab": {
          "base_uri": "https://localhost:8080/"
        },
        "id": "np3GSa-JNcRh",
        "outputId": "c3361ef3-e309-4302-f5eb-0ebfb91435fa"
      },
      "execution_count": 29,
      "outputs": [
        {
          "output_type": "stream",
          "name": "stdout",
          "text": [
            "Files already downloaded and verified\n"
          ]
        }
      ]
    },
    {
      "cell_type": "code",
      "source": [
        "loader = torch.utils.data.DataLoader(dataset = dataset,\n",
        "                                     batch_size = 32,\n",
        "                                     shuffle = True)"
      ],
      "metadata": {
        "id": "O9Pxk0IdOfpg"
      },
      "execution_count": 41,
      "outputs": []
    },
    {
      "cell_type": "code",
      "execution_count": 2,
      "metadata": {
        "id": "yDRFl8ORylvq"
      },
      "outputs": [],
      "source": [
        "class Reshape(nn.Module):\n",
        "    def __init__(self, *args):\n",
        "        super(Reshape, self).__init__()\n",
        "        self.shape = args\n",
        "\n",
        "    def forward(self, x):\n",
        "        return x.view(self.shape)"
      ]
    },
    {
      "cell_type": "code",
      "source": [
        "class Lambda(nn.Module):\n",
        "  def __init__(self, lambd):\n",
        "    super(Lambda, self).__init__()\n",
        "    self.lambd = lambd\n",
        "  def forward(self, x):\n",
        "    return self.lambd(x)"
      ],
      "metadata": {
        "id": "oeJ2OZ-ny1i6"
      },
      "execution_count": 3,
      "outputs": []
    },
    {
      "cell_type": "code",
      "source": [
        "def sampling(args): \n",
        "  mu, log_var = args\n",
        "  epsilon = torch.normal(mean=0., std=1., size=mu.shape)\n",
        "  return mu + torch.exp(log_var / 2) * epsilon"
      ],
      "metadata": {
        "id": "kgCtltjuy17R"
      },
      "execution_count": 4,
      "outputs": []
    },
    {
      "cell_type": "code",
      "source": [
        "def vae_r_loss(y_true, y_pred, r_loss_factor=10000):\n",
        "  r_loss = nn.MSELoss(y_true, y_pred, reduction='none')\n",
        "  return r_loss_factor * r_loss\n",
        "\n",
        "def vae_kl_loss(y_true, y_pred):\n",
        "  kl_loss = nn.KLDivLoss(y_true, y_pred, reduction='none')\n",
        "  return kl_loss \n",
        "\n",
        "def vae_loss(y_true, y_pred):\n",
        "  r_loss = vae_r_loss(y_true, y_true)\n",
        "  kl_loss = vae_kl_loss(y_true, y_pred)\n",
        "  return r_loss + kl_loss"
      ],
      "metadata": {
        "id": "IS5NKQN4y7j9"
      },
      "execution_count": 9,
      "outputs": []
    },
    {
      "cell_type": "code",
      "source": [
        "class Encoder(nn.Module):\n",
        "  def __init__(self):\n",
        "    super(Encoder, self).__init__()\n",
        "\n",
        "    self.conv0 = nn.Conv2d(3, 32, kernel_size=3, stride=1)\n",
        "    self.batch_norm1 = nn.BatchNorm2d(32)\n",
        "    self.leaky_relu = nn.LeakyReLU() \n",
        "    self.dropout = nn.Dropout()\n",
        "    self.conv1 = nn.Conv2d(32, 64, kernel_size=3, stride=1)\n",
        "    self.batch_norm2 = nn.BatchNorm2d(64)\n",
        "    self.conv2 = nn.Conv2d(64, 64, kernel_size=3, stride=1)\n",
        "    self.batch_norm3 = nn.BatchNorm2d(64)\n",
        "    self.conv3 = nn.Conv2d(64, 64, kernel_size=3, stride=1)\n",
        "    self.batch_norm4 = nn.BatchNorm2d(64)\n",
        "    self.mu = nn.Linear(4096, 200)\n",
        "    self.log_var = nn.Linear(4096, 200)\n",
        "    self.lam = Lambda(sampling) \n",
        "\n",
        "  def forward(self, x):\n",
        "    x = self.conv0(x)\n",
        "    x = self.batch_norm1(x)\n",
        "    x = self.dropout(self.leaky_relu(x))\n",
        "    x = self.conv1(x)\n",
        "    x = self.batch_norm2(x)\n",
        "    x = self.dropout(self.leaky_relu(x))\n",
        "    x = self.conv2(x)\n",
        "    x = self.batch_norm3(x)\n",
        "    x = self.dropout(self.leaky_relu(x))\n",
        "    x = self.conv3(x)\n",
        "    x = self.batch_norm4(x)\n",
        "    x = self.dropout(self.leaky_relu(x))\n",
        "    mu = self.mu(x.view(-1, 4096))\n",
        "    log_var = self.log_var(x.view(-1, 4096))\n",
        "    output = self.lam(mu, log_var)\n",
        "    return output"
      ],
      "metadata": {
        "id": "6CKrLDvW1ZUE"
      },
      "execution_count": 10,
      "outputs": []
    },
    {
      "cell_type": "code",
      "source": [
        "encoder = Encoder()\n",
        "print(encoder)"
      ],
      "metadata": {
        "colab": {
          "base_uri": "https://localhost:8080/"
        },
        "id": "tR_mb5FZ2SKi",
        "outputId": "1d0e3326-416b-4fcf-d39d-61b7f76ec362"
      },
      "execution_count": 11,
      "outputs": [
        {
          "output_type": "stream",
          "name": "stdout",
          "text": [
            "Encoder(\n",
            "  (conv0): Conv2d(3, 32, kernel_size=(3, 3), stride=(1, 1))\n",
            "  (batch_norm1): BatchNorm2d(32, eps=1e-05, momentum=0.1, affine=True, track_running_stats=True)\n",
            "  (leaky_relu): LeakyReLU(negative_slope=0.01)\n",
            "  (dropout): Dropout(p=0.5, inplace=False)\n",
            "  (conv1): Conv2d(32, 64, kernel_size=(3, 3), stride=(1, 1))\n",
            "  (batch_norm2): BatchNorm2d(64, eps=1e-05, momentum=0.1, affine=True, track_running_stats=True)\n",
            "  (conv2): Conv2d(64, 64, kernel_size=(3, 3), stride=(1, 1))\n",
            "  (batch_norm3): BatchNorm2d(64, eps=1e-05, momentum=0.1, affine=True, track_running_stats=True)\n",
            "  (conv3): Conv2d(64, 64, kernel_size=(3, 3), stride=(1, 1))\n",
            "  (batch_norm4): BatchNorm2d(64, eps=1e-05, momentum=0.1, affine=True, track_running_stats=True)\n",
            "  (mu): Linear(in_features=4096, out_features=200, bias=True)\n",
            "  (log_var): Linear(in_features=4096, out_features=200, bias=True)\n",
            "  (lam): Lambda()\n",
            ")\n"
          ]
        }
      ]
    },
    {
      "cell_type": "code",
      "source": [
        "class Decoder(nn.Module):\n",
        "  def __init__(self):\n",
        "    super(Decoder, self).__init__()\n",
        "    self.linear = nn.Linear(200, 4096)\n",
        "    self.convt0 = nn.ConvTranspose2d(64, 64, kernel_size=3, padding=1, stride=2, output_padding=1)\n",
        "    self.batchnorm1 = nn.BatchNorm2d(64)\n",
        "    self.leaky_relu = nn.LeakyReLU()\n",
        "    self.dropout = nn.Dropout()\n",
        "    self.convt1 = nn.ConvTranspose2d(64, 64, kernel_size=3, padding=1, stride=2, output_padding=1)\n",
        "    self.batchnorm2 = nn.BatchNorm2d(64)\n",
        "    self.convt2 = nn.ConvTranspose2d(64, 32, kernel_size=3, padding=1, stride=2, output_padding=1)\n",
        "    self.batchnorm3 = nn.BatchNorm2d(32)\n",
        "    self.convt3 = nn.ConvTranspose2d(32, 3, kernel_size=3, padding=1, stride=2, output_padding=1)\n",
        "    self.relu = nn.ReLU()\n",
        "\n",
        "  def forward(self, x):\n",
        "    x = self.linear(x)\n",
        "    x = self.convt0(x.view(-1, 64, 8, 8))\n",
        "    x = self.batchnorm1(x)\n",
        "    x = self.dropout(self.leaky_relu(x))\n",
        "    x = self.convt1(x)\n",
        "    x = self.batchnorm2(x)\n",
        "    x = self.dropout(self.leaky_relu(x))\n",
        "    x = self.convt2(x)\n",
        "    x = self.batchnorm3(x)\n",
        "    x = self.dropout(self.leaky_relu(x))\n",
        "    x = self.convt3(x)\n",
        "    out = self.relu(x)\n",
        "    return out\n",
        "    "
      ],
      "metadata": {
        "id": "OXN2L_rT816X"
      },
      "execution_count": 12,
      "outputs": []
    },
    {
      "cell_type": "code",
      "source": [
        "class AE(nn.Module):\n",
        "  def __init__(self):\n",
        "    super().__init__()\n",
        "    self.encoder = Encoder()\n",
        "    self.decoder = Decoder()\n",
        "\n",
        "  def forward(self, x):\n",
        "    encoded = self.encoder(x)\n",
        "    decoded = self.decoder(encoded)\n",
        "    return decoded"
      ],
      "metadata": {
        "id": "tWKG4LV3KqBQ"
      },
      "execution_count": 13,
      "outputs": []
    },
    {
      "cell_type": "code",
      "source": [
        "from torchvision import datasets \n",
        "from torchvision import transforms, utils\n",
        "import matplotlib.pyplot as plt\n",
        "import os \n",
        "from torch.utils.data import Dataset, DataLoader\n",
        "from skimage import io, transform"
      ],
      "metadata": {
        "id": "XvholRzX-oty"
      },
      "execution_count": 14,
      "outputs": []
    },
    {
      "cell_type": "code",
      "source": [
        "model = AE()\n",
        "\n",
        "loss_function = nn.MSELoss()\n",
        "\n",
        "optimizer = torch.optim.Adam(model.parameters(),\n",
        "                             lr = 1e-1,\n",
        "                             weight_decay = 1e-8)"
      ],
      "metadata": {
        "id": "zNp5x1XLJ7FK"
      },
      "execution_count": 15,
      "outputs": []
    },
    {
      "cell_type": "code",
      "source": [
        "loader = torch.utils.data.DataLoader(dataset = face_dataset,\n",
        "                                     batch_size = 32,\n",
        "                                     shuffle = True)"
      ],
      "metadata": {
        "id": "u8dzPZQKKbwQ"
      },
      "execution_count": null,
      "outputs": []
    },
    {
      "cell_type": "code",
      "source": [
        "device = torch.device(\"cuda:0\" if torch.cuda.is_available() else \"cpu\")"
      ],
      "metadata": {
        "id": "9nLwYujhNG8c"
      },
      "execution_count": 16,
      "outputs": []
    },
    {
      "cell_type": "code",
      "source": [
        "print(device)"
      ],
      "metadata": {
        "id": "rslG66h3Me1E",
        "colab": {
          "base_uri": "https://localhost:8080/"
        },
        "outputId": "e64726c4-baab-4cf4-8058-0c3cf47eb8f3"
      },
      "execution_count": 17,
      "outputs": [
        {
          "output_type": "stream",
          "name": "stdout",
          "text": [
            "cuda:0\n"
          ]
        }
      ]
    },
    {
      "cell_type": "code",
      "source": [
        "model.to(device)"
      ],
      "metadata": {
        "colab": {
          "base_uri": "https://localhost:8080/"
        },
        "id": "DkVJDmyNOxi2",
        "outputId": "7d6a181c-22ed-487d-8fdb-b956fc9da8a2"
      },
      "execution_count": 18,
      "outputs": [
        {
          "output_type": "execute_result",
          "data": {
            "text/plain": [
              "AE(\n",
              "  (encoder): Encoder(\n",
              "    (conv0): Conv2d(3, 32, kernel_size=(3, 3), stride=(1, 1))\n",
              "    (batch_norm1): BatchNorm2d(32, eps=1e-05, momentum=0.1, affine=True, track_running_stats=True)\n",
              "    (leaky_relu): LeakyReLU(negative_slope=0.01)\n",
              "    (dropout): Dropout(p=0.5, inplace=False)\n",
              "    (conv1): Conv2d(32, 64, kernel_size=(3, 3), stride=(1, 1))\n",
              "    (batch_norm2): BatchNorm2d(64, eps=1e-05, momentum=0.1, affine=True, track_running_stats=True)\n",
              "    (conv2): Conv2d(64, 64, kernel_size=(3, 3), stride=(1, 1))\n",
              "    (batch_norm3): BatchNorm2d(64, eps=1e-05, momentum=0.1, affine=True, track_running_stats=True)\n",
              "    (conv3): Conv2d(64, 64, kernel_size=(3, 3), stride=(1, 1))\n",
              "    (batch_norm4): BatchNorm2d(64, eps=1e-05, momentum=0.1, affine=True, track_running_stats=True)\n",
              "    (mu): Linear(in_features=4096, out_features=200, bias=True)\n",
              "    (log_var): Linear(in_features=4096, out_features=200, bias=True)\n",
              "    (lam): Lambda()\n",
              "  )\n",
              "  (decoder): Decoder(\n",
              "    (linear): Linear(in_features=200, out_features=4096, bias=True)\n",
              "    (convt0): ConvTranspose2d(64, 64, kernel_size=(3, 3), stride=(2, 2), padding=(1, 1), output_padding=(1, 1))\n",
              "    (batchnorm1): BatchNorm2d(64, eps=1e-05, momentum=0.1, affine=True, track_running_stats=True)\n",
              "    (leaky_relu): LeakyReLU(negative_slope=0.01)\n",
              "    (dropout): Dropout(p=0.5, inplace=False)\n",
              "    (convt1): ConvTranspose2d(64, 64, kernel_size=(3, 3), stride=(2, 2), padding=(1, 1), output_padding=(1, 1))\n",
              "    (batchnorm2): BatchNorm2d(64, eps=1e-05, momentum=0.1, affine=True, track_running_stats=True)\n",
              "    (convt2): ConvTranspose2d(64, 32, kernel_size=(3, 3), stride=(2, 2), padding=(1, 1), output_padding=(1, 1))\n",
              "    (batchnorm3): BatchNorm2d(32, eps=1e-05, momentum=0.1, affine=True, track_running_stats=True)\n",
              "    (convt3): ConvTranspose2d(32, 3, kernel_size=(3, 3), stride=(2, 2), padding=(1, 1), output_padding=(1, 1))\n",
              "    (relu): ReLU()\n",
              "  )\n",
              ")"
            ]
          },
          "metadata": {},
          "execution_count": 18
        }
      ]
    },
    {
      "cell_type": "code",
      "source": [
        "# model = model.to(device)"
      ],
      "metadata": {
        "id": "DvMfp1NOQuMe"
      },
      "execution_count": 38,
      "outputs": []
    },
    {
      "cell_type": "code",
      "source": [
        "epochs = 20\n",
        "losses = []\n",
        "\n",
        "for epoch in range(epochs):\n",
        "  for image, _ in loader:\n",
        "    image = image.to(device).float()\n",
        "    # image = image.reshape(1, -1, 28, 28)\n",
        "    reconstructed = model(image)\n",
        "    # print(image.shape)\n",
        "    # print(reconstructed.shape)\n",
        "    reconstructed = reconstructed.to(device)\n",
        "    loss = loss_function(reconstructed, image)\n",
        "    optimizer.zero_grad()\n",
        "    loss.backward()\n",
        "    optimizer.step()\n",
        "\n",
        "    losses.append(loss)"
      ],
      "metadata": {
        "id": "EFpAwDycMLf_"
      },
      "execution_count": null,
      "outputs": []
    },
    {
      "cell_type": "code",
      "source": [],
      "metadata": {
        "id": "rR5l3ICHP0lh"
      },
      "execution_count": null,
      "outputs": []
    }
  ]
}