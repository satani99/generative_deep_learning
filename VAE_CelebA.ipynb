{
  "nbformat": 4,
  "nbformat_minor": 0,
  "metadata": {
    "colab": {
      "provenance": [],
      "authorship_tag": "ABX9TyNiLu7O/OSCeoG16/MVpaQk",
      "include_colab_link": true
    },
    "kernelspec": {
      "name": "python3",
      "display_name": "Python 3"
    },
    "language_info": {
      "name": "python"
    },
    "accelerator": "GPU",
    "gpuClass": "standard"
  },
  "cells": [
    {
      "cell_type": "markdown",
      "metadata": {
        "id": "view-in-github",
        "colab_type": "text"
      },
      "source": [
        "<a href=\"https://colab.research.google.com/github/satani99/generative_deep_learning/blob/main/VAE_CelebA.ipynb\" target=\"_parent\"><img src=\"https://colab.research.google.com/assets/colab-badge.svg\" alt=\"Open In Colab\"/></a>"
      ]
    },
    {
      "cell_type": "code",
      "source": [
        "import torch.nn as nn\n",
        "import torch\n",
        "import torchvision"
      ],
      "metadata": {
        "id": "GP7yQPQJy_F7"
      },
      "execution_count": 2,
      "outputs": []
    },
    {
      "cell_type": "code",
      "execution_count": 3,
      "metadata": {
        "id": "yDRFl8ORylvq"
      },
      "outputs": [],
      "source": [
        "class Reshape(nn.Module):\n",
        "    def __init__(self, *args):\n",
        "        super(Reshape, self).__init__()\n",
        "        self.shape = args\n",
        "\n",
        "    def forward(self, x):\n",
        "        return x.view(self.shape)"
      ]
    },
    {
      "cell_type": "code",
      "source": [
        "class Lambda(nn.Module):\n",
        "  def __init__(self, lambd):\n",
        "    super(Lambda, self).__init__()\n",
        "    self.lambd = lambd\n",
        "  def forward(self, x):\n",
        "    return self.lambd(x)"
      ],
      "metadata": {
        "id": "oeJ2OZ-ny1i6"
      },
      "execution_count": 4,
      "outputs": []
    },
    {
      "cell_type": "code",
      "source": [
        "def sampling(args): \n",
        "  mu, log_var = args\n",
        "  epsilon = torch.normal(mean=0., std=1., size=mu.shape)\n",
        "  return mu + torch.exp(log_var / 2) * epsilon"
      ],
      "metadata": {
        "id": "kgCtltjuy17R"
      },
      "execution_count": 5,
      "outputs": []
    },
    {
      "cell_type": "code",
      "source": [
        "def vae_r_loss(y_true, y_pred, r_loss_factor=10000):\n",
        "  r_loss = nn.MSELoss(y_true, y_pred, reduction='none')\n",
        "  return r_loss_factor * r_loss\n",
        "\n",
        "def vae_kl_loss(y_true, y_pred):\n",
        "  kl_loss = nn.KLDivLoss(y_true, y_pred, reduction='none')\n",
        "  return kl_loss \n",
        "\n",
        "def vae_loss(y_true, y_pred):\n",
        "  r_loss = vae_r_loss(y_true, y_true)\n",
        "  kl_loss = vae_kl_loss(y_true, y_pred)\n",
        "  return r_loss + kl_loss"
      ],
      "metadata": {
        "id": "IS5NKQN4y7j9"
      },
      "execution_count": 15,
      "outputs": []
    },
    {
      "cell_type": "code",
      "source": [
        "class Encoder(nn.Module):\n",
        "  def __init__(self):\n",
        "    super(Encoder, self).__init__()\n",
        "\n",
        "    self.conv0 = nn.Conv2d(3, 32, kernel_size=3, stride=1)\n",
        "    self.batch_norm1 = nn.BatchNorm2d(32)\n",
        "    self.leaky_relu = nn.LeakyReLU() \n",
        "    self.dropout = nn.Dropout()\n",
        "    self.conv1 = nn.Conv2d(32, 64, kernel_size=3, stride=1)\n",
        "    self.batch_norm2 = nn.BatchNorm2d(64)\n",
        "    self.conv2 = nn.Conv2d(64, 64, kernel_size=3, stride=1)\n",
        "    self.batch_norm3 = nn.BatchNorm2d(64)\n",
        "    self.conv3 = nn.Conv2d(64, 64, kernel_size=3, stride=1)\n",
        "    self.batch_norm4 = nn.BatchNorm2d(64)\n",
        "    self.mu = nn.Linear(4096, 200)\n",
        "    self.log_var = nn.Linear(4096, 200)\n",
        "    self.lam = Lambda(sampling) \n",
        "\n",
        "  def forward(self, x):\n",
        "    x = self.conv0(x)\n",
        "    x = self.batch_norm1(x)\n",
        "    x = self.dropout(self.leaky_relu(x))\n",
        "    x = self.conv1(x)\n",
        "    x = self.batch_norm2(x)\n",
        "    x = self.dropout(self.leaky_relu(x))\n",
        "    x = self.conv2(x)\n",
        "    x = self.batch_norm3(x)\n",
        "    x = self.dropout(self.leaky_relu(x))\n",
        "    x = self.conv3(x)\n",
        "    x = self.batch_norm4(x)\n",
        "    x = self.dropout(self.leaky_relu(x))\n",
        "    mu = self.mu(x.view(-1, 4096))\n",
        "    log_var = self.log_var(x.view(-1, 4096))\n",
        "    output = self.lam(mu, log_var)\n",
        "    return output"
      ],
      "metadata": {
        "id": "6CKrLDvW1ZUE"
      },
      "execution_count": 8,
      "outputs": []
    },
    {
      "cell_type": "code",
      "source": [
        "encoder = Encoder()\n",
        "print(encoder)"
      ],
      "metadata": {
        "colab": {
          "base_uri": "https://localhost:8080/"
        },
        "id": "tR_mb5FZ2SKi",
        "outputId": "2be959f0-f56a-44f3-b3ca-0ddfbe3bdfae"
      },
      "execution_count": 16,
      "outputs": [
        {
          "output_type": "stream",
          "name": "stdout",
          "text": [
            "Encoder(\n",
            "  (conv0): Conv2d(3, 32, kernel_size=(3, 3), stride=(1, 1))\n",
            "  (batch_norm1): BatchNorm2d(32, eps=1e-05, momentum=0.1, affine=True, track_running_stats=True)\n",
            "  (leaky_relu): LeakyReLU(negative_slope=0.01)\n",
            "  (dropout): Dropout(p=0.5, inplace=False)\n",
            "  (conv1): Conv2d(32, 64, kernel_size=(3, 3), stride=(1, 1))\n",
            "  (batch_norm2): BatchNorm2d(64, eps=1e-05, momentum=0.1, affine=True, track_running_stats=True)\n",
            "  (conv2): Conv2d(64, 64, kernel_size=(3, 3), stride=(1, 1))\n",
            "  (batch_norm3): BatchNorm2d(64, eps=1e-05, momentum=0.1, affine=True, track_running_stats=True)\n",
            "  (conv3): Conv2d(64, 64, kernel_size=(3, 3), stride=(1, 1))\n",
            "  (batch_norm4): BatchNorm2d(64, eps=1e-05, momentum=0.1, affine=True, track_running_stats=True)\n",
            "  (mu): Linear(in_features=4096, out_features=200, bias=True)\n",
            "  (log_var): Linear(in_features=4096, out_features=200, bias=True)\n",
            "  (lam): Lambda()\n",
            ")\n"
          ]
        }
      ]
    },
    {
      "cell_type": "code",
      "source": [],
      "metadata": {
        "colab": {
          "base_uri": "https://localhost:8080/"
        },
        "id": "OXN2L_rT816X",
        "outputId": "1469aa24-061c-4d23-815e-a2bf37a45d3d"
      },
      "execution_count": 14,
      "outputs": [
        {
          "output_type": "execute_result",
          "data": {
            "text/plain": [
              "tensor([[0.0419, 4.4632, 4.1102, 8.1344, 0.2808],\n",
              "        [0.2386, 1.1621, 1.1126, 0.8074, 0.1105],\n",
              "        [0.1706, 0.9230, 1.4701, 0.2561, 1.3024]], grad_fn=<MseLossBackward0>)"
            ]
          },
          "metadata": {},
          "execution_count": 14
        }
      ]
    },
    {
      "cell_type": "code",
      "source": [],
      "metadata": {
        "id": "XvholRzX-oty"
      },
      "execution_count": null,
      "outputs": []
    }
  ]
}